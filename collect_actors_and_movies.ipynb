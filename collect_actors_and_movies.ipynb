{
 "cells": [
  {
   "cell_type": "code",
   "execution_count": 1,
   "id": "2cfe97d7",
   "metadata": {},
   "outputs": [],
   "source": [
    "import imdb_code"
   ]
  },
  {
   "cell_type": "markdown",
   "id": "ea9d6b4b",
   "metadata": {},
   "source": [
    "### for get_movies_by_actor_soup"
   ]
  },
  {
   "cell_type": "markdown",
   "id": "57e7499c",
   "metadata": {},
   "source": [
    "actor Dwayne Johnson https://www.imdb.com/name/nm0425005/"
   ]
  },
  {
   "cell_type": "code",
   "execution_count": 2,
   "id": "17dd5f5b",
   "metadata": {},
   "outputs": [
    {
     "data": {
      "text/plain": [
       "[('Black Adam', 'https://www.imdb.com/title/tt6443346/'),\n",
       " ('Red Notice', 'https://www.imdb.com/title/tt7991608/'),\n",
       " ('Jungle Cruise', 'https://www.imdb.com/title/tt0870154/'),\n",
       " ('Jumanji: The Next Level', 'https://www.imdb.com/title/tt7975244/'),\n",
       " ('Fast & Furious Presents: Hobbs & Shaw',\n",
       "  'https://www.imdb.com/title/tt6806448/'),\n",
       " ('Skyscraper', 'https://www.imdb.com/title/tt5758778/'),\n",
       " ('Rampage', 'https://www.imdb.com/title/tt2231461/'),\n",
       " ('Jumanji: Welcome to the Jungle', 'https://www.imdb.com/title/tt2283362/'),\n",
       " ('Baywatch', 'https://www.imdb.com/title/tt1469304/'),\n",
       " ('The Fate of the Furious', 'https://www.imdb.com/title/tt4630562/'),\n",
       " ('Central Intelligence', 'https://www.imdb.com/title/tt1489889/'),\n",
       " ('Jem and the Holograms', 'https://www.imdb.com/title/tt3614530/'),\n",
       " ('San Andreas', 'https://www.imdb.com/title/tt2126355/'),\n",
       " ('Furious 7', 'https://www.imdb.com/title/tt2820852/'),\n",
       " ('Hercules', 'https://www.imdb.com/title/tt1267297/'),\n",
       " ('Fast & Furious 6', 'https://www.imdb.com/title/tt1905041/'),\n",
       " ('Pain & Gain', 'https://www.imdb.com/title/tt1980209/'),\n",
       " ('Empire State', 'https://www.imdb.com/title/tt2171867/'),\n",
       " ('G.I. Joe: Retaliation', 'https://www.imdb.com/title/tt1583421/'),\n",
       " ('Snitch', 'https://www.imdb.com/title/tt0882977/'),\n",
       " ('Journey 2: The Mysterious Island', 'https://www.imdb.com/title/tt1397514/'),\n",
       " ('Fast Five', 'https://www.imdb.com/title/tt1596343/'),\n",
       " ('Faster', 'https://www.imdb.com/title/tt1433108/'),\n",
       " ('The Other Guys', 'https://www.imdb.com/title/tt1386588/'),\n",
       " ('Tooth Fairy', 'https://www.imdb.com/title/tt0808510/'),\n",
       " ('Race to Witch Mountain', 'https://www.imdb.com/title/tt1075417/'),\n",
       " ('Get Smart', 'https://www.imdb.com/title/tt0425061/'),\n",
       " ('Southland Tales', 'https://www.imdb.com/title/tt0405336/'),\n",
       " ('Longshot', 'https://www.imdb.com/title/tt0201694/')]"
      ]
     },
     "execution_count": 2,
     "metadata": {},
     "output_type": "execute_result"
    }
   ],
   "source": [
    "soup = imdb_code.imdb_helper_functions.soup_from_url('https://www.imdb.com/name/nm0425005/')\n",
    "imdb_code.get_movies_by_actor_soup(soup)"
   ]
  },
  {
   "cell_type": "markdown",
   "id": "520f38a3",
   "metadata": {},
   "source": [
    "actor Dwayne Johnson https://www.imdb.com/name/nm0425005/, num_of_movies_limit=100"
   ]
  },
  {
   "cell_type": "code",
   "execution_count": 3,
   "id": "ecb2a2ba",
   "metadata": {},
   "outputs": [
    {
     "data": {
      "text/plain": [
       "[('Black Adam', 'https://www.imdb.com/title/tt6443346/'),\n",
       " ('Red Notice', 'https://www.imdb.com/title/tt7991608/'),\n",
       " ('Jungle Cruise', 'https://www.imdb.com/title/tt0870154/'),\n",
       " ('Jumanji: The Next Level', 'https://www.imdb.com/title/tt7975244/'),\n",
       " ('Fast & Furious Presents: Hobbs & Shaw',\n",
       "  'https://www.imdb.com/title/tt6806448/'),\n",
       " ('Skyscraper', 'https://www.imdb.com/title/tt5758778/'),\n",
       " ('Rampage', 'https://www.imdb.com/title/tt2231461/'),\n",
       " ('Jumanji: Welcome to the Jungle', 'https://www.imdb.com/title/tt2283362/'),\n",
       " ('Baywatch', 'https://www.imdb.com/title/tt1469304/'),\n",
       " ('The Fate of the Furious', 'https://www.imdb.com/title/tt4630562/'),\n",
       " ('Central Intelligence', 'https://www.imdb.com/title/tt1489889/'),\n",
       " ('Jem and the Holograms', 'https://www.imdb.com/title/tt3614530/'),\n",
       " ('San Andreas', 'https://www.imdb.com/title/tt2126355/'),\n",
       " ('Furious 7', 'https://www.imdb.com/title/tt2820852/'),\n",
       " ('Hercules', 'https://www.imdb.com/title/tt1267297/'),\n",
       " ('Fast & Furious 6', 'https://www.imdb.com/title/tt1905041/'),\n",
       " ('Pain & Gain', 'https://www.imdb.com/title/tt1980209/'),\n",
       " ('Empire State', 'https://www.imdb.com/title/tt2171867/'),\n",
       " ('G.I. Joe: Retaliation', 'https://www.imdb.com/title/tt1583421/'),\n",
       " ('Snitch', 'https://www.imdb.com/title/tt0882977/'),\n",
       " ('Journey 2: The Mysterious Island', 'https://www.imdb.com/title/tt1397514/'),\n",
       " ('Fast Five', 'https://www.imdb.com/title/tt1596343/'),\n",
       " ('Faster', 'https://www.imdb.com/title/tt1433108/'),\n",
       " ('The Other Guys', 'https://www.imdb.com/title/tt1386588/'),\n",
       " ('Tooth Fairy', 'https://www.imdb.com/title/tt0808510/'),\n",
       " ('Race to Witch Mountain', 'https://www.imdb.com/title/tt1075417/'),\n",
       " ('Get Smart', 'https://www.imdb.com/title/tt0425061/'),\n",
       " ('Southland Tales', 'https://www.imdb.com/title/tt0405336/'),\n",
       " ('Longshot', 'https://www.imdb.com/title/tt0201694/')]"
      ]
     },
     "execution_count": 3,
     "metadata": {},
     "output_type": "execute_result"
    }
   ],
   "source": [
    "soup = imdb_code.imdb_helper_functions.soup_from_url('https://www.imdb.com/name/nm0425005/')\n",
    "imdb_code.get_movies_by_actor_soup(soup, num_of_movies_limit=100)"
   ]
  },
  {
   "cell_type": "markdown",
   "id": "b5f90d6d",
   "metadata": {},
   "source": [
    "actor Dwayne Johnson https://www.imdb.com/name/nm0425005/, num_of_movies_limit=5"
   ]
  },
  {
   "cell_type": "code",
   "execution_count": 4,
   "id": "769392fd",
   "metadata": {},
   "outputs": [
    {
     "data": {
      "text/plain": [
       "[('Black Adam', 'https://www.imdb.com/title/tt6443346/'),\n",
       " ('Red Notice', 'https://www.imdb.com/title/tt7991608/'),\n",
       " ('Jungle Cruise', 'https://www.imdb.com/title/tt0870154/'),\n",
       " ('Jumanji: The Next Level', 'https://www.imdb.com/title/tt7975244/'),\n",
       " ('Fast & Furious Presents: Hobbs & Shaw',\n",
       "  'https://www.imdb.com/title/tt6806448/')]"
      ]
     },
     "execution_count": 4,
     "metadata": {},
     "output_type": "execute_result"
    }
   ],
   "source": [
    "soup = imdb_code.imdb_helper_functions.soup_from_url('https://www.imdb.com/name/nm0425005/')\n",
    "imdb_code.get_movies_by_actor_soup(soup, num_of_movies_limit=5)"
   ]
  },
  {
   "cell_type": "markdown",
   "id": "1a22b809",
   "metadata": {},
   "source": [
    "actress Scarlett Johansson https://www.imdb.com/name/nm0424060/"
   ]
  },
  {
   "cell_type": "code",
   "execution_count": 5,
   "id": "1dc952fd",
   "metadata": {},
   "outputs": [
    {
     "data": {
      "text/plain": [
       "[('Asteroid City', 'https://www.imdb.com/title/tt14230388/'),\n",
       " ('Black Widow', 'https://www.imdb.com/title/tt3480822/'),\n",
       " ('Jojo Rabbit', 'https://www.imdb.com/title/tt2584384/'),\n",
       " ('Marriage Story', 'https://www.imdb.com/title/tt7653254/'),\n",
       " ('Avengers: Endgame', 'https://www.imdb.com/title/tt4154796/'),\n",
       " ('Avengers: Infinity War', 'https://www.imdb.com/title/tt4154756/'),\n",
       " ('Rough Night', 'https://www.imdb.com/title/tt4799050/'),\n",
       " ('Ghost in the Shell', 'https://www.imdb.com/title/tt1219827/'),\n",
       " ('Captain America: Civil War', 'https://www.imdb.com/title/tt3498820/'),\n",
       " ('Hail, Caesar!', 'https://www.imdb.com/title/tt0475290/'),\n",
       " ('Avengers: Age of Ultron', 'https://www.imdb.com/title/tt2395427/'),\n",
       " ('Lucy', 'https://www.imdb.com/title/tt2872732/'),\n",
       " ('Captain America: The Winter Soldier',\n",
       "  'https://www.imdb.com/title/tt1843866/'),\n",
       " ('Chef', 'https://www.imdb.com/title/tt2883512/'),\n",
       " ('Under the Skin', 'https://www.imdb.com/title/tt1441395/'),\n",
       " ('Don Jon', 'https://www.imdb.com/title/tt2229499/'),\n",
       " ('Hitchcock', 'https://www.imdb.com/title/tt0975645/'),\n",
       " ('The Avengers', 'https://www.imdb.com/title/tt0848228/'),\n",
       " ('We Bought a Zoo', 'https://www.imdb.com/title/tt1389137/'),\n",
       " ('Iron Man 2', 'https://www.imdb.com/title/tt1228705/'),\n",
       " (\"He's Just Not That Into You\", 'https://www.imdb.com/title/tt1001508/'),\n",
       " ('The Spirit', 'https://www.imdb.com/title/tt0831887/'),\n",
       " ('Vicky Cristina Barcelona', 'https://www.imdb.com/title/tt0497465/'),\n",
       " ('The Other Boleyn Girl', 'https://www.imdb.com/title/tt0467200/'),\n",
       " ('The Nanny Diaries', 'https://www.imdb.com/title/tt0489237/'),\n",
       " ('The Prestige', 'https://www.imdb.com/title/tt0482571/'),\n",
       " ('The Black Dahlia', 'https://www.imdb.com/title/tt0387877/'),\n",
       " ('Scoop', 'https://www.imdb.com/title/tt0457513/'),\n",
       " ('The Island', 'https://www.imdb.com/title/tt0399201/'),\n",
       " ('Match Point', 'https://www.imdb.com/title/tt0416320/'),\n",
       " ('In Good Company', 'https://www.imdb.com/title/tt0385267/'),\n",
       " ('A Good Woman', 'https://www.imdb.com/title/tt0379306/'),\n",
       " ('A Love Song for Bobby Long', 'https://www.imdb.com/title/tt0369672/'),\n",
       " ('The Perfect Score', 'https://www.imdb.com/title/tt0314498/'),\n",
       " ('Girl with a Pearl Earring', 'https://www.imdb.com/title/tt0335119/'),\n",
       " ('Lost in Translation', 'https://www.imdb.com/title/tt0335266/'),\n",
       " ('Eight Legged Freaks', 'https://www.imdb.com/title/tt0271367/'),\n",
       " ('An American Rhapsody', 'https://www.imdb.com/title/tt0221799/'),\n",
       " ('Ghost World', 'https://www.imdb.com/title/tt0162346/'),\n",
       " (\"The Man Who Wasn't There\", 'https://www.imdb.com/title/tt0243133/'),\n",
       " ('My Brother the Pig', 'https://www.imdb.com/title/tt0165396/'),\n",
       " ('The Horse Whisperer', 'https://www.imdb.com/title/tt0119314/'),\n",
       " ('Home Alone 3', 'https://www.imdb.com/title/tt0119303/'),\n",
       " ('Fall', 'https://www.imdb.com/title/tt0119098/'),\n",
       " ('If Lucy Fell', 'https://www.imdb.com/title/tt0116606/'),\n",
       " ('Manny & Lo', 'https://www.imdb.com/title/tt0116985/'),\n",
       " ('Just Cause', 'https://www.imdb.com/title/tt0113501/'),\n",
       " ('North', 'https://www.imdb.com/title/tt0110687/')]"
      ]
     },
     "execution_count": 5,
     "metadata": {},
     "output_type": "execute_result"
    }
   ],
   "source": [
    "soup = imdb_code.imdb_helper_functions.soup_from_url('https://www.imdb.com/name/nm0424060/')\n",
    "imdb_code.get_movies_by_actor_soup(soup)"
   ]
  },
  {
   "cell_type": "markdown",
   "id": "1f1f67c0",
   "metadata": {},
   "source": [
    "actress Scarlett Johansson https://www.imdb.com/name/nm0424060/, num_of_movies_limit=100"
   ]
  },
  {
   "cell_type": "code",
   "execution_count": 6,
   "id": "374cd83b",
   "metadata": {},
   "outputs": [
    {
     "data": {
      "text/plain": [
       "[('Asteroid City', 'https://www.imdb.com/title/tt14230388/'),\n",
       " ('Black Widow', 'https://www.imdb.com/title/tt3480822/'),\n",
       " ('Jojo Rabbit', 'https://www.imdb.com/title/tt2584384/'),\n",
       " ('Marriage Story', 'https://www.imdb.com/title/tt7653254/'),\n",
       " ('Avengers: Endgame', 'https://www.imdb.com/title/tt4154796/'),\n",
       " ('Avengers: Infinity War', 'https://www.imdb.com/title/tt4154756/'),\n",
       " ('Rough Night', 'https://www.imdb.com/title/tt4799050/'),\n",
       " ('Ghost in the Shell', 'https://www.imdb.com/title/tt1219827/'),\n",
       " ('Captain America: Civil War', 'https://www.imdb.com/title/tt3498820/'),\n",
       " ('Hail, Caesar!', 'https://www.imdb.com/title/tt0475290/'),\n",
       " ('Avengers: Age of Ultron', 'https://www.imdb.com/title/tt2395427/'),\n",
       " ('Lucy', 'https://www.imdb.com/title/tt2872732/'),\n",
       " ('Captain America: The Winter Soldier',\n",
       "  'https://www.imdb.com/title/tt1843866/'),\n",
       " ('Chef', 'https://www.imdb.com/title/tt2883512/'),\n",
       " ('Under the Skin', 'https://www.imdb.com/title/tt1441395/'),\n",
       " ('Don Jon', 'https://www.imdb.com/title/tt2229499/'),\n",
       " ('Hitchcock', 'https://www.imdb.com/title/tt0975645/'),\n",
       " ('The Avengers', 'https://www.imdb.com/title/tt0848228/'),\n",
       " ('We Bought a Zoo', 'https://www.imdb.com/title/tt1389137/'),\n",
       " ('Iron Man 2', 'https://www.imdb.com/title/tt1228705/'),\n",
       " (\"He's Just Not That Into You\", 'https://www.imdb.com/title/tt1001508/'),\n",
       " ('The Spirit', 'https://www.imdb.com/title/tt0831887/'),\n",
       " ('Vicky Cristina Barcelona', 'https://www.imdb.com/title/tt0497465/'),\n",
       " ('The Other Boleyn Girl', 'https://www.imdb.com/title/tt0467200/'),\n",
       " ('The Nanny Diaries', 'https://www.imdb.com/title/tt0489237/'),\n",
       " ('The Prestige', 'https://www.imdb.com/title/tt0482571/'),\n",
       " ('The Black Dahlia', 'https://www.imdb.com/title/tt0387877/'),\n",
       " ('Scoop', 'https://www.imdb.com/title/tt0457513/'),\n",
       " ('The Island', 'https://www.imdb.com/title/tt0399201/'),\n",
       " ('Match Point', 'https://www.imdb.com/title/tt0416320/'),\n",
       " ('In Good Company', 'https://www.imdb.com/title/tt0385267/'),\n",
       " ('A Good Woman', 'https://www.imdb.com/title/tt0379306/'),\n",
       " ('A Love Song for Bobby Long', 'https://www.imdb.com/title/tt0369672/'),\n",
       " ('The Perfect Score', 'https://www.imdb.com/title/tt0314498/'),\n",
       " ('Girl with a Pearl Earring', 'https://www.imdb.com/title/tt0335119/'),\n",
       " ('Lost in Translation', 'https://www.imdb.com/title/tt0335266/'),\n",
       " ('Eight Legged Freaks', 'https://www.imdb.com/title/tt0271367/'),\n",
       " ('An American Rhapsody', 'https://www.imdb.com/title/tt0221799/'),\n",
       " ('Ghost World', 'https://www.imdb.com/title/tt0162346/'),\n",
       " (\"The Man Who Wasn't There\", 'https://www.imdb.com/title/tt0243133/'),\n",
       " ('My Brother the Pig', 'https://www.imdb.com/title/tt0165396/'),\n",
       " ('The Horse Whisperer', 'https://www.imdb.com/title/tt0119314/'),\n",
       " ('Home Alone 3', 'https://www.imdb.com/title/tt0119303/'),\n",
       " ('Fall', 'https://www.imdb.com/title/tt0119098/'),\n",
       " ('If Lucy Fell', 'https://www.imdb.com/title/tt0116606/'),\n",
       " ('Manny & Lo', 'https://www.imdb.com/title/tt0116985/'),\n",
       " ('Just Cause', 'https://www.imdb.com/title/tt0113501/'),\n",
       " ('North', 'https://www.imdb.com/title/tt0110687/')]"
      ]
     },
     "execution_count": 6,
     "metadata": {},
     "output_type": "execute_result"
    }
   ],
   "source": [
    "soup = imdb_code.imdb_helper_functions.soup_from_url('https://www.imdb.com/name/nm0424060/')\n",
    "imdb_code.get_movies_by_actor_soup(soup, num_of_movies_limit=100)"
   ]
  },
  {
   "cell_type": "markdown",
   "id": "4470d7f7",
   "metadata": {},
   "source": [
    "actress Scarlett Johansson https://www.imdb.com/name/nm0424060/, num_of_movies_limit=5"
   ]
  },
  {
   "cell_type": "code",
   "execution_count": 7,
   "id": "08c4ac10",
   "metadata": {},
   "outputs": [
    {
     "data": {
      "text/plain": [
       "[('Asteroid City', 'https://www.imdb.com/title/tt14230388/'),\n",
       " ('Black Widow', 'https://www.imdb.com/title/tt3480822/'),\n",
       " ('Jojo Rabbit', 'https://www.imdb.com/title/tt2584384/'),\n",
       " ('Marriage Story', 'https://www.imdb.com/title/tt7653254/'),\n",
       " ('Avengers: Endgame', 'https://www.imdb.com/title/tt4154796/')]"
      ]
     },
     "execution_count": 7,
     "metadata": {},
     "output_type": "execute_result"
    }
   ],
   "source": [
    "soup = imdb_code.imdb_helper_functions.soup_from_url('https://www.imdb.com/name/nm0424060/')\n",
    "imdb_code.get_movies_by_actor_soup(soup, num_of_movies_limit=5)"
   ]
  },
  {
   "cell_type": "markdown",
   "id": "67c26441",
   "metadata": {},
   "source": [
    "### for get_actors_by_movie_soup"
   ]
  },
  {
   "cell_type": "markdown",
   "id": "af9e1392",
   "metadata": {},
   "source": [
    "movie \"Black Widow\" https://www.imdb.com/title/tt3480822/fullcredits/"
   ]
  },
  {
   "cell_type": "code",
   "execution_count": 8,
   "id": "edb2385d",
   "metadata": {},
   "outputs": [
    {
     "data": {
      "text/plain": [
       "[('Scarlett Johansson', 'https://www.imdb.com/name/nm0424060/'),\n",
       " ('Florence Pugh', 'https://www.imdb.com/name/nm6073955/'),\n",
       " ('Rachel Weisz', 'https://www.imdb.com/name/nm0001838/'),\n",
       " ('David Harbour', 'https://www.imdb.com/name/nm1092086/'),\n",
       " ('Ray Winstone', 'https://www.imdb.com/name/nm0935653/'),\n",
       " ('Ever Anderson', 'https://www.imdb.com/name/nm8349839/'),\n",
       " ('Violet McGraw', 'https://www.imdb.com/name/nm8627157/'),\n",
       " ('O-T Fagbenle', 'https://www.imdb.com/name/nm1282966/'),\n",
       " ('William Hurt', 'https://www.imdb.com/name/nm0000458/'),\n",
       " ('Olga Kurylenko', 'https://www.imdb.com/name/nm1385871/'),\n",
       " ('Ryan Kiera Armstrong', 'https://www.imdb.com/name/nm8740834/'),\n",
       " ('Liani Samuel', 'https://www.imdb.com/name/nm9384191/'),\n",
       " ('Michelle Lee', 'https://www.imdb.com/name/nm1685477/'),\n",
       " ('Lewis Young', 'https://www.imdb.com/name/nm4447854/'),\n",
       " ('C.C. Smiff', 'https://www.imdb.com/name/nm0806905/'),\n",
       " ('Nanna Blondell', 'https://www.imdb.com/name/nm2116753/'),\n",
       " ('Simona Zivkovska', 'https://www.imdb.com/name/nm4717792/'),\n",
       " ('Erin Jameson', 'https://www.imdb.com/name/nm11004715/'),\n",
       " ('Shaina West', 'https://www.imdb.com/name/nm10964538/'),\n",
       " ('Yolanda Lynes', 'https://www.imdb.com/name/nm7926404/'),\n",
       " ('Claudia Heinz', 'https://www.imdb.com/name/nm5817969/'),\n",
       " ('Fatou Bah', 'https://www.imdb.com/name/nm10929665/'),\n",
       " ('Jade Ma', 'https://www.imdb.com/name/nm10111016/'),\n",
       " ('Jade Xu', 'https://www.imdb.com/name/nm4978635/'),\n",
       " ('Lucy Jayne Murray', 'https://www.imdb.com/name/nm6159195/'),\n",
       " ('Lucy Cork', 'https://www.imdb.com/name/nm6434811/'),\n",
       " ('Eniko Fulop', 'https://www.imdb.com/name/nm6041721/'),\n",
       " ('Lauren Okadigbo', 'https://www.imdb.com/name/nm7413014/'),\n",
       " ('Aurélia Agel', 'https://www.imdb.com/name/nm9894422/'),\n",
       " ('Zhane Samuels', 'https://www.imdb.com/name/nm11430478/'),\n",
       " ('Shawarah Battles', 'https://www.imdb.com/name/nm11003684/'),\n",
       " ('Tabby Bond', 'https://www.imdb.com/name/nm3660908/'),\n",
       " ('Madeleine Nicholls', 'https://www.imdb.com/name/nm11003686/'),\n",
       " ('Yasmin Riley', 'https://www.imdb.com/name/nm10996988/'),\n",
       " ('Fiona Griffiths', 'https://www.imdb.com/name/nm11003683/'),\n",
       " ('Georgia Curtis', 'https://www.imdb.com/name/nm4403569/'),\n",
       " ('Svetlana Rumi', 'https://www.imdb.com/name/nm10323926/'),\n",
       " ('Ione Butler', 'https://www.imdb.com/name/nm3198287/'),\n",
       " ('Aubrey Cleland', 'https://www.imdb.com/name/nm5879446/'),\n",
       " ('Kurt Yue', 'https://www.imdb.com/name/nm4746345/'),\n",
       " ('Doug Robson', 'https://www.imdb.com/name/nm9910026/'),\n",
       " ('Zoltan Nagy', 'https://www.imdb.com/name/nm12740703/'),\n",
       " ('Marcel Dorian', 'https://www.imdb.com/name/nm7773218/'),\n",
       " ('Liran Nathan', 'https://www.imdb.com/name/nm3879338/'),\n",
       " ('Judit Varga-Szathmary', 'https://www.imdb.com/name/nm12740704/'),\n",
       " ('Noel Krisztian Kozak', 'https://www.imdb.com/name/nm12740705/'),\n",
       " ('Martin Razpopov', 'https://www.imdb.com/name/nm10896437/'),\n",
       " ('Olivier Richters', 'https://www.imdb.com/name/nm3689528/'),\n",
       " ('Nina Novich', 'https://www.imdb.com/name/nm7348310/'),\n",
       " ('Andrew Byron', 'https://www.imdb.com/name/nm1794753/'),\n",
       " ('Ed Ashe', 'https://www.imdb.com/name/nm10045051/'),\n",
       " ('Dawid Szatarski', 'https://www.imdb.com/name/nm3606178/'),\n",
       " ('Cali Nelle', 'https://www.imdb.com/name/nm4754115/'),\n",
       " ('Geoffrey D. Williams', 'https://www.imdb.com/name/nm1970083/'),\n",
       " ('Robert Pralgo', 'https://www.imdb.com/name/nm1128418/'),\n",
       " ('Jacinte Blankenship', 'https://www.imdb.com/name/nm2715450/'),\n",
       " ('Josh Henry', 'https://www.imdb.com/name/nm1483247/'),\n",
       " ('Jose Miguel Vasquez', 'https://www.imdb.com/name/nm3650400/'),\n",
       " ('Valentina Herrera', 'https://www.imdb.com/name/nm9151563/'),\n",
       " ('Danielle Jalade', 'https://www.imdb.com/name/nm11959928/'),\n",
       " ('Aria Brooks', 'https://www.imdb.com/name/nm9098598/'),\n",
       " ('Sophie Colgrove', 'https://www.imdb.com/name/nm10791240/'),\n",
       " ('Caister Choi', 'https://www.imdb.com/name/nm9834573/')]"
      ]
     },
     "execution_count": 8,
     "metadata": {},
     "output_type": "execute_result"
    }
   ],
   "source": [
    "soup = imdb_code.imdb_helper_functions.soup_from_url('https://www.imdb.com/title/tt3480822/')\n",
    "imdb_code.get_actors_by_movie_soup(soup)"
   ]
  },
  {
   "cell_type": "markdown",
   "id": "6a818cd4",
   "metadata": {},
   "source": [
    "movie \"Black Widow\" https://www.imdb.com/title/tt3480822/fullcredits/, num_of_actors_limit=150"
   ]
  },
  {
   "cell_type": "code",
   "execution_count": 9,
   "id": "af0494f9",
   "metadata": {},
   "outputs": [
    {
     "data": {
      "text/plain": [
       "[('Scarlett Johansson', 'https://www.imdb.com/name/nm0424060/'),\n",
       " ('Florence Pugh', 'https://www.imdb.com/name/nm6073955/'),\n",
       " ('Rachel Weisz', 'https://www.imdb.com/name/nm0001838/'),\n",
       " ('David Harbour', 'https://www.imdb.com/name/nm1092086/'),\n",
       " ('Ray Winstone', 'https://www.imdb.com/name/nm0935653/'),\n",
       " ('Ever Anderson', 'https://www.imdb.com/name/nm8349839/'),\n",
       " ('Violet McGraw', 'https://www.imdb.com/name/nm8627157/'),\n",
       " ('O-T Fagbenle', 'https://www.imdb.com/name/nm1282966/'),\n",
       " ('William Hurt', 'https://www.imdb.com/name/nm0000458/'),\n",
       " ('Olga Kurylenko', 'https://www.imdb.com/name/nm1385871/'),\n",
       " ('Ryan Kiera Armstrong', 'https://www.imdb.com/name/nm8740834/'),\n",
       " ('Liani Samuel', 'https://www.imdb.com/name/nm9384191/'),\n",
       " ('Michelle Lee', 'https://www.imdb.com/name/nm1685477/'),\n",
       " ('Lewis Young', 'https://www.imdb.com/name/nm4447854/'),\n",
       " ('C.C. Smiff', 'https://www.imdb.com/name/nm0806905/'),\n",
       " ('Nanna Blondell', 'https://www.imdb.com/name/nm2116753/'),\n",
       " ('Simona Zivkovska', 'https://www.imdb.com/name/nm4717792/'),\n",
       " ('Erin Jameson', 'https://www.imdb.com/name/nm11004715/'),\n",
       " ('Shaina West', 'https://www.imdb.com/name/nm10964538/'),\n",
       " ('Yolanda Lynes', 'https://www.imdb.com/name/nm7926404/'),\n",
       " ('Claudia Heinz', 'https://www.imdb.com/name/nm5817969/'),\n",
       " ('Fatou Bah', 'https://www.imdb.com/name/nm10929665/'),\n",
       " ('Jade Ma', 'https://www.imdb.com/name/nm10111016/'),\n",
       " ('Jade Xu', 'https://www.imdb.com/name/nm4978635/'),\n",
       " ('Lucy Jayne Murray', 'https://www.imdb.com/name/nm6159195/'),\n",
       " ('Lucy Cork', 'https://www.imdb.com/name/nm6434811/'),\n",
       " ('Eniko Fulop', 'https://www.imdb.com/name/nm6041721/'),\n",
       " ('Lauren Okadigbo', 'https://www.imdb.com/name/nm7413014/'),\n",
       " ('Aurélia Agel', 'https://www.imdb.com/name/nm9894422/'),\n",
       " ('Zhane Samuels', 'https://www.imdb.com/name/nm11430478/'),\n",
       " ('Shawarah Battles', 'https://www.imdb.com/name/nm11003684/'),\n",
       " ('Tabby Bond', 'https://www.imdb.com/name/nm3660908/'),\n",
       " ('Madeleine Nicholls', 'https://www.imdb.com/name/nm11003686/'),\n",
       " ('Yasmin Riley', 'https://www.imdb.com/name/nm10996988/'),\n",
       " ('Fiona Griffiths', 'https://www.imdb.com/name/nm11003683/'),\n",
       " ('Georgia Curtis', 'https://www.imdb.com/name/nm4403569/'),\n",
       " ('Svetlana Rumi', 'https://www.imdb.com/name/nm10323926/'),\n",
       " ('Ione Butler', 'https://www.imdb.com/name/nm3198287/'),\n",
       " ('Aubrey Cleland', 'https://www.imdb.com/name/nm5879446/'),\n",
       " ('Kurt Yue', 'https://www.imdb.com/name/nm4746345/'),\n",
       " ('Doug Robson', 'https://www.imdb.com/name/nm9910026/'),\n",
       " ('Zoltan Nagy', 'https://www.imdb.com/name/nm12740703/'),\n",
       " ('Marcel Dorian', 'https://www.imdb.com/name/nm7773218/'),\n",
       " ('Liran Nathan', 'https://www.imdb.com/name/nm3879338/'),\n",
       " ('Judit Varga-Szathmary', 'https://www.imdb.com/name/nm12740704/'),\n",
       " ('Noel Krisztian Kozak', 'https://www.imdb.com/name/nm12740705/'),\n",
       " ('Martin Razpopov', 'https://www.imdb.com/name/nm10896437/'),\n",
       " ('Olivier Richters', 'https://www.imdb.com/name/nm3689528/'),\n",
       " ('Nina Novich', 'https://www.imdb.com/name/nm7348310/'),\n",
       " ('Andrew Byron', 'https://www.imdb.com/name/nm1794753/'),\n",
       " ('Ed Ashe', 'https://www.imdb.com/name/nm10045051/'),\n",
       " ('Dawid Szatarski', 'https://www.imdb.com/name/nm3606178/'),\n",
       " ('Cali Nelle', 'https://www.imdb.com/name/nm4754115/'),\n",
       " ('Geoffrey D. Williams', 'https://www.imdb.com/name/nm1970083/'),\n",
       " ('Robert Pralgo', 'https://www.imdb.com/name/nm1128418/'),\n",
       " ('Jacinte Blankenship', 'https://www.imdb.com/name/nm2715450/'),\n",
       " ('Josh Henry', 'https://www.imdb.com/name/nm1483247/'),\n",
       " ('Jose Miguel Vasquez', 'https://www.imdb.com/name/nm3650400/'),\n",
       " ('Valentina Herrera', 'https://www.imdb.com/name/nm9151563/'),\n",
       " ('Danielle Jalade', 'https://www.imdb.com/name/nm11959928/'),\n",
       " ('Aria Brooks', 'https://www.imdb.com/name/nm9098598/'),\n",
       " ('Sophie Colgrove', 'https://www.imdb.com/name/nm10791240/'),\n",
       " ('Caister Choi', 'https://www.imdb.com/name/nm9834573/')]"
      ]
     },
     "execution_count": 9,
     "metadata": {},
     "output_type": "execute_result"
    }
   ],
   "source": [
    "soup = imdb_code.imdb_helper_functions.soup_from_url('https://www.imdb.com/title/tt3480822/')\n",
    "imdb_code.get_actors_by_movie_soup(soup, num_of_actors_limit=150)"
   ]
  },
  {
   "cell_type": "markdown",
   "id": "687dec4c",
   "metadata": {},
   "source": [
    "movie \"Black Widow\" https://www.imdb.com/title/tt3480822/fullcredits/, num_of_actors_limit=5"
   ]
  },
  {
   "cell_type": "code",
   "execution_count": 10,
   "id": "3e93f72f",
   "metadata": {},
   "outputs": [
    {
     "data": {
      "text/plain": [
       "[('Scarlett Johansson', 'https://www.imdb.com/name/nm0424060/'),\n",
       " ('Florence Pugh', 'https://www.imdb.com/name/nm6073955/'),\n",
       " ('Rachel Weisz', 'https://www.imdb.com/name/nm0001838/'),\n",
       " ('David Harbour', 'https://www.imdb.com/name/nm1092086/'),\n",
       " ('Ray Winstone', 'https://www.imdb.com/name/nm0935653/')]"
      ]
     },
     "execution_count": 10,
     "metadata": {},
     "output_type": "execute_result"
    }
   ],
   "source": [
    "soup = imdb_code.imdb_helper_functions.soup_from_url('https://www.imdb.com/title/tt3480822/')\n",
    "imdb_code.get_actors_by_movie_soup(soup, num_of_actors_limit=5)"
   ]
  },
  {
   "cell_type": "code",
   "execution_count": null,
   "id": "cdc8b21e",
   "metadata": {},
   "outputs": [],
   "source": []
  }
 ],
 "metadata": {
  "kernelspec": {
   "display_name": "Python 3 (ipykernel)",
   "language": "python",
   "name": "python3"
  },
  "language_info": {
   "codemirror_mode": {
    "name": "ipython",
    "version": 3
   },
   "file_extension": ".py",
   "mimetype": "text/x-python",
   "name": "python",
   "nbconvert_exporter": "python",
   "pygments_lexer": "ipython3",
   "version": "3.9.12"
  }
 },
 "nbformat": 4,
 "nbformat_minor": 5
}
